{
 "cells": [
  {
   "cell_type": "code",
   "execution_count": 1,
   "id": "9b933d82-15f7-495a-9735-576a16bed3ac",
   "metadata": {},
   "outputs": [
    {
     "data": {
      "text/plain": [
       "array([[69, 89, 33],\n",
       "       [60, 52, 76],\n",
       "       [38, 17, 61],\n",
       "       [21, 45, 24],\n",
       "       [57, 61, 49],\n",
       "       [30, 30,  1],\n",
       "       [ 0, 96,  6],\n",
       "       [ 3, 45,  9],\n",
       "       [17, 20, 76],\n",
       "       [68, 81, 25]])"
      ]
     },
     "metadata": {},
     "output_type": "display_data"
    }
   ],
   "source": [
    "import numpy as np\n",
    "\n",
    "# Create random array\n",
    "random_array = np.random.randint(0, 100, size=(10, 3))\n",
    "\n",
    "# Display the array\n",
    "display(random_array)"
   ]
  },
  {
   "cell_type": "code",
   "execution_count": null,
   "id": "39040334-8cc3-446f-a770-956327acc8c7",
   "metadata": {},
   "outputs": [],
   "source": []
  }
 ],
 "metadata": {
  "kernelspec": {
   "display_name": "Python 3 (ipykernel)",
   "language": "python",
   "name": "python3"
  },
  "language_info": {
   "codemirror_mode": {
    "name": "ipython",
    "version": 3
   },
   "file_extension": ".py",
   "mimetype": "text/x-python",
   "name": "python",
   "nbconvert_exporter": "python",
   "pygments_lexer": "ipython3",
   "version": "3.9.21"
  }
 },
 "nbformat": 4,
 "nbformat_minor": 5
}
