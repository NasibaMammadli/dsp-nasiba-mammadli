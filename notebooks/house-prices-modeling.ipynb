{
 "cells": [
  {
   "cell_type": "markdown",
   "id": "e7314025-f5f7-4bb0-b8be-5d322bfe564d",
   "metadata": {},
   "source": [
    "\n",
    "# House Prices Prediction Model\n",
    "This notebook implements a machine learning pipeline to predict house prices in Ames, Iowa."
   ]
  },
  {
   "cell_type": "markdown",
   "id": "eda4c2c1-2ab1-42a8-b3cf-0ac77898632d",
   "metadata": {},
   "source": [
    "## 1. Data Loading and Initial Exploration"
   ]
  },
  {
   "cell_type": "markdown",
   "id": "6f163dd3-cb4b-4565-837f-b46079192472",
   "metadata": {},
   "source": [
    "# House Prices Prediction Model\n",
    "This notebook implements a machine learning pipeline to predict house prices in Ames, Iowa."
   ]
  },
  {
   "cell_type": "markdown",
   "id": "3d0113ed-90bc-4231-ae67-b1d4a72cb824",
   "metadata": {},
   "source": [
    "## 1. Data Loading and Initial Exploration"
   ]
  },
  {
   "cell_type": "code",
   "execution_count": 55,
   "id": "5ff53742-938d-4f89-a987-5d7627e462f9",
   "metadata": {},
   "outputs": [
    {
     "name": "stdout",
     "output_type": "stream",
     "text": [
      "Training set shape: (1460, 81)\n",
      "\n",
      "Test set shape: (1459, 80)\n",
      "\n",
      "First 5 rows of training data:\n"
     ]
    },
    {
     "data": {
      "text/html": [
       "<div>\n",
       "<style scoped>\n",
       "    .dataframe tbody tr th:only-of-type {\n",
       "        vertical-align: middle;\n",
       "    }\n",
       "\n",
       "    .dataframe tbody tr th {\n",
       "        vertical-align: top;\n",
       "    }\n",
       "\n",
       "    .dataframe thead th {\n",
       "        text-align: right;\n",
       "    }\n",
       "</style>\n",
       "<table border=\"1\" class=\"dataframe\">\n",
       "  <thead>\n",
       "    <tr style=\"text-align: right;\">\n",
       "      <th></th>\n",
       "      <th>Id</th>\n",
       "      <th>MSSubClass</th>\n",
       "      <th>MSZoning</th>\n",
       "      <th>LotFrontage</th>\n",
       "      <th>LotArea</th>\n",
       "      <th>Street</th>\n",
       "      <th>Alley</th>\n",
       "      <th>LotShape</th>\n",
       "      <th>LandContour</th>\n",
       "      <th>Utilities</th>\n",
       "      <th>...</th>\n",
       "      <th>PoolArea</th>\n",
       "      <th>PoolQC</th>\n",
       "      <th>Fence</th>\n",
       "      <th>MiscFeature</th>\n",
       "      <th>MiscVal</th>\n",
       "      <th>MoSold</th>\n",
       "      <th>YrSold</th>\n",
       "      <th>SaleType</th>\n",
       "      <th>SaleCondition</th>\n",
       "      <th>SalePrice</th>\n",
       "    </tr>\n",
       "  </thead>\n",
       "  <tbody>\n",
       "    <tr>\n",
       "      <th>0</th>\n",
       "      <td>1</td>\n",
       "      <td>60</td>\n",
       "      <td>RL</td>\n",
       "      <td>65.0</td>\n",
       "      <td>8450</td>\n",
       "      <td>Pave</td>\n",
       "      <td>NaN</td>\n",
       "      <td>Reg</td>\n",
       "      <td>Lvl</td>\n",
       "      <td>AllPub</td>\n",
       "      <td>...</td>\n",
       "      <td>0</td>\n",
       "      <td>NaN</td>\n",
       "      <td>NaN</td>\n",
       "      <td>NaN</td>\n",
       "      <td>0</td>\n",
       "      <td>2</td>\n",
       "      <td>2008</td>\n",
       "      <td>WD</td>\n",
       "      <td>Normal</td>\n",
       "      <td>208500</td>\n",
       "    </tr>\n",
       "    <tr>\n",
       "      <th>1</th>\n",
       "      <td>2</td>\n",
       "      <td>20</td>\n",
       "      <td>RL</td>\n",
       "      <td>80.0</td>\n",
       "      <td>9600</td>\n",
       "      <td>Pave</td>\n",
       "      <td>NaN</td>\n",
       "      <td>Reg</td>\n",
       "      <td>Lvl</td>\n",
       "      <td>AllPub</td>\n",
       "      <td>...</td>\n",
       "      <td>0</td>\n",
       "      <td>NaN</td>\n",
       "      <td>NaN</td>\n",
       "      <td>NaN</td>\n",
       "      <td>0</td>\n",
       "      <td>5</td>\n",
       "      <td>2007</td>\n",
       "      <td>WD</td>\n",
       "      <td>Normal</td>\n",
       "      <td>181500</td>\n",
       "    </tr>\n",
       "    <tr>\n",
       "      <th>2</th>\n",
       "      <td>3</td>\n",
       "      <td>60</td>\n",
       "      <td>RL</td>\n",
       "      <td>68.0</td>\n",
       "      <td>11250</td>\n",
       "      <td>Pave</td>\n",
       "      <td>NaN</td>\n",
       "      <td>IR1</td>\n",
       "      <td>Lvl</td>\n",
       "      <td>AllPub</td>\n",
       "      <td>...</td>\n",
       "      <td>0</td>\n",
       "      <td>NaN</td>\n",
       "      <td>NaN</td>\n",
       "      <td>NaN</td>\n",
       "      <td>0</td>\n",
       "      <td>9</td>\n",
       "      <td>2008</td>\n",
       "      <td>WD</td>\n",
       "      <td>Normal</td>\n",
       "      <td>223500</td>\n",
       "    </tr>\n",
       "    <tr>\n",
       "      <th>3</th>\n",
       "      <td>4</td>\n",
       "      <td>70</td>\n",
       "      <td>RL</td>\n",
       "      <td>60.0</td>\n",
       "      <td>9550</td>\n",
       "      <td>Pave</td>\n",
       "      <td>NaN</td>\n",
       "      <td>IR1</td>\n",
       "      <td>Lvl</td>\n",
       "      <td>AllPub</td>\n",
       "      <td>...</td>\n",
       "      <td>0</td>\n",
       "      <td>NaN</td>\n",
       "      <td>NaN</td>\n",
       "      <td>NaN</td>\n",
       "      <td>0</td>\n",
       "      <td>2</td>\n",
       "      <td>2006</td>\n",
       "      <td>WD</td>\n",
       "      <td>Abnorml</td>\n",
       "      <td>140000</td>\n",
       "    </tr>\n",
       "    <tr>\n",
       "      <th>4</th>\n",
       "      <td>5</td>\n",
       "      <td>60</td>\n",
       "      <td>RL</td>\n",
       "      <td>84.0</td>\n",
       "      <td>14260</td>\n",
       "      <td>Pave</td>\n",
       "      <td>NaN</td>\n",
       "      <td>IR1</td>\n",
       "      <td>Lvl</td>\n",
       "      <td>AllPub</td>\n",
       "      <td>...</td>\n",
       "      <td>0</td>\n",
       "      <td>NaN</td>\n",
       "      <td>NaN</td>\n",
       "      <td>NaN</td>\n",
       "      <td>0</td>\n",
       "      <td>12</td>\n",
       "      <td>2008</td>\n",
       "      <td>WD</td>\n",
       "      <td>Normal</td>\n",
       "      <td>250000</td>\n",
       "    </tr>\n",
       "  </tbody>\n",
       "</table>\n",
       "<p>5 rows × 81 columns</p>\n",
       "</div>"
      ],
      "text/plain": [
       "   Id  MSSubClass MSZoning  LotFrontage  LotArea Street Alley LotShape  \\\n",
       "0   1          60       RL         65.0     8450   Pave   NaN      Reg   \n",
       "1   2          20       RL         80.0     9600   Pave   NaN      Reg   \n",
       "2   3          60       RL         68.0    11250   Pave   NaN      IR1   \n",
       "3   4          70       RL         60.0     9550   Pave   NaN      IR1   \n",
       "4   5          60       RL         84.0    14260   Pave   NaN      IR1   \n",
       "\n",
       "  LandContour Utilities  ... PoolArea PoolQC Fence MiscFeature MiscVal MoSold  \\\n",
       "0         Lvl    AllPub  ...        0    NaN   NaN         NaN       0      2   \n",
       "1         Lvl    AllPub  ...        0    NaN   NaN         NaN       0      5   \n",
       "2         Lvl    AllPub  ...        0    NaN   NaN         NaN       0      9   \n",
       "3         Lvl    AllPub  ...        0    NaN   NaN         NaN       0      2   \n",
       "4         Lvl    AllPub  ...        0    NaN   NaN         NaN       0     12   \n",
       "\n",
       "  YrSold  SaleType  SaleCondition  SalePrice  \n",
       "0   2008        WD         Normal     208500  \n",
       "1   2007        WD         Normal     181500  \n",
       "2   2008        WD         Normal     223500  \n",
       "3   2006        WD        Abnorml     140000  \n",
       "4   2008        WD         Normal     250000  \n",
       "\n",
       "[5 rows x 81 columns]"
      ]
     },
     "metadata": {},
     "output_type": "display_data"
    }
   ],
   "source": [
    "import numpy as np\n",
    "import pandas as pd\n",
    "import matplotlib.pyplot as plt\n",
    "import seaborn as sns\n",
    "from sklearn.model_selection import train_test_split\n",
    "from sklearn.preprocessing import StandardScaler, LabelEncoder\n",
    "from sklearn.ensemble import RandomForestRegressor\n",
    "from sklearn.metrics import mean_squared_log_error\n",
    "\n",
    "# Load the datasets\n",
    "train_data = pd.read_csv('/Users/nasibamammadli/pw1/notebooks/data/train.csv')\n",
    "test_data = pd.read_csv('/Users/nasibamammadli/pw1/notebooks/data/test.csv')\n",
    "\n",
    "# Display basic information\n",
    "print(\"Training set shape:\", train_data.shape)\n",
    "print(\"\\nTest set shape:\", test_data.shape)\n",
    "print(\"\\nFirst 5 rows of training data:\")\n",
    "display(train_data.head())"
   ]
  },
  {
   "cell_type": "markdown",
   "id": "1d5987a4-c0a0-4e13-baef-fed441167d1b",
   "metadata": {},
   "source": [
    "## 2. Feature Selection and Analysis"
   ]
  },
  {
   "cell_type": "code",
   "execution_count": 39,
   "id": "24ece941-76db-44cd-bd33-73ffb6989f07",
   "metadata": {},
   "outputs": [
    {
     "name": "stdout",
     "output_type": "stream",
     "text": [
      "\n",
      "Selected features summary:\n",
      "\n",
      "GrLivArea statistics:\n"
     ]
    },
    {
     "data": {
      "text/plain": [
       "count    1460.000000\n",
       "mean     1515.463699\n",
       "std       525.480383\n",
       "min       334.000000\n",
       "25%      1129.500000\n",
       "50%      1464.000000\n",
       "75%      1776.750000\n",
       "max      5642.000000\n",
       "Name: GrLivArea, dtype: float64"
      ]
     },
     "metadata": {},
     "output_type": "display_data"
    },
    {
     "name": "stdout",
     "output_type": "stream",
     "text": [
      "\n",
      "TotalBsmtSF statistics:\n"
     ]
    },
    {
     "data": {
      "text/plain": [
       "count    1460.000000\n",
       "mean     1057.429452\n",
       "std       438.705324\n",
       "min         0.000000\n",
       "25%       795.750000\n",
       "50%       991.500000\n",
       "75%      1298.250000\n",
       "max      6110.000000\n",
       "Name: TotalBsmtSF, dtype: float64"
      ]
     },
     "metadata": {},
     "output_type": "display_data"
    },
    {
     "name": "stdout",
     "output_type": "stream",
     "text": [
      "\n",
      "Categorical features value counts:\n",
      "\n",
      "Neighborhood distribution:\n"
     ]
    },
    {
     "data": {
      "text/plain": [
       "Neighborhood\n",
       "NAmes      225\n",
       "CollgCr    150\n",
       "OldTown    113\n",
       "Edwards    100\n",
       "Somerst     86\n",
       "Name: count, dtype: int64"
      ]
     },
     "metadata": {},
     "output_type": "display_data"
    },
    {
     "name": "stdout",
     "output_type": "stream",
     "text": [
      "\n",
      "HouseStyle distribution:\n"
     ]
    },
    {
     "data": {
      "text/plain": [
       "HouseStyle\n",
       "1Story    726\n",
       "2Story    445\n",
       "1.5Fin    154\n",
       "SLvl       65\n",
       "SFoyer     37\n",
       "Name: count, dtype: int64"
      ]
     },
     "metadata": {},
     "output_type": "display_data"
    }
   ],
   "source": [
    "# Select features\n",
    "continuous_features = ['GrLivArea', 'TotalBsmtSF']\n",
    "categorical_features = ['Neighborhood', 'HouseStyle']\n",
    "\n",
    "# Display selected features information\n",
    "print(\"\\nSelected features summary:\")\n",
    "for feature in continuous_features:\n",
    "    print(f\"\\n{feature} statistics:\")\n",
    "    display(train_data[feature].describe())\n",
    "\n",
    "print(\"\\nCategorical features value counts:\")\n",
    "for feature in categorical_features:\n",
    "    print(f\"\\n{feature} distribution:\")\n",
    "    display(train_data[feature].value_counts().head())"
   ]
  },
  {
   "cell_type": "code",
   "execution_count": 41,
   "id": "627614b8-89cc-4f3c-a17e-05c186128e92",
   "metadata": {},
   "outputs": [
    {
     "data": {
      "image/png": "[encoded data removed]",
      "text/plain": [
       "<Figure size 1200x500 with 2 Axes>"
      ]
     },
     "metadata": {},
     "output_type": "display_data"
    }
   ],
   "source": [
    "# Visualize continuous features\n",
    "plt.figure(figsize=(12, 5))\n",
    "for i, feature in enumerate(continuous_features, 1):\n",
    "    plt.subplot(1, 2, i)\n",
    "    sns.histplot(train_data[feature], bins=30)\n",
    "    plt.title(f'Distribution of {feature}')\n",
    "plt.tight_layout()\n",
    "plt.show()"
   ]
  },
  {
   "cell_type": "markdown",
   "id": "97b39a2a-7759-415a-9192-cb3d886f460a",
   "metadata": {},
   "source": [
    "## 3. Feature Processing"
   ]
  },
  {
   "cell_type": "code",
   "execution_count": 61,
   "id": "e0f9ac9d-10bd-4a2e-ae13-07d028feefc2",
   "metadata": {},
   "outputs": [
    {
     "name": "stdout",
     "output_type": "stream",
     "text": [
      "Initial data shapes:\n",
      "X shape: (1460, 4)\n",
      "y shape: (1460,)\n",
      "\n",
      "After train-test split:\n",
      "X_train shape: (1168, 4)\n",
      "X_test shape: (292, 4)\n",
      "y_train shape: (1168,)\n",
      "y_test shape: (292,)\n",
      "\n",
      "After scaling continuous features:\n",
      "X_train_continuous shape: (1168, 2)\n",
      "X_test_continuous shape: (292, 2)\n",
      "\n",
      "After encoding categorical features:\n",
      "X_train_categorical shape: (1168, 2)\n",
      "X_test_categorical shape: (292, 2)\n",
      "\n",
      "Final processed data shapes:\n",
      "X_train_processed shape: (1168, 4)\n",
      "X_test_processed shape: (292, 4)\n",
      "\n",
      "Sample of processed training data (first 5 rows):\n",
      "Columns order: ['GrLivArea', 'TotalBsmtSF', 'Neighborhood', 'HouseStyle']\n",
      "[[-0.40709315  0.57261219 12.          2.        ]\n",
      " [ 0.08317013 -0.59654659  8.          5.        ]\n",
      " [-1.39525026 -0.60335723  7.          2.        ]\n",
      " [ 0.45897505 -0.75092096 18.          0.        ]\n",
      " [ 0.31208684 -0.08120864 18.          0.        ]]\n"
     ]
    }
   ],
   "source": [
    "# Create feature matrix X and target variable y\n",
    "X = train_data[continuous_features + categorical_features].copy()\n",
    "y = train_data['SalePrice']\n",
    "\n",
    "print(\"Initial data shapes:\")\n",
    "print(f\"X shape: {X.shape}\")\n",
    "print(f\"y shape: {y.shape}\")\n",
    "\n",
    "# Split the data\n",
    "X_train, X_test, y_train, y_test = train_test_split(X, y, test_size=0.2, random_state=42)\n",
    "\n",
    "print(\"\\nAfter train-test split:\")\n",
    "print(f\"X_train shape: {X_train.shape}\")\n",
    "print(f\"X_test shape: {X_test.shape}\")\n",
    "print(f\"y_train shape: {y_train.shape}\")\n",
    "print(f\"y_test shape: {y_test.shape}\")\n",
    "\n",
    "# Scale continuous features\n",
    "scaler = StandardScaler()\n",
    "X_train_continuous = scaler.fit_transform(X_train[continuous_features])\n",
    "X_test_continuous = scaler.transform(X_test[continuous_features])\n",
    "\n",
    "print(\"\\nAfter scaling continuous features:\")\n",
    "print(f\"X_train_continuous shape: {X_train_continuous.shape}\")\n",
    "print(f\"X_test_continuous shape: {X_test_continuous.shape}\")\n",
    "\n",
    "# Encode categorical features\n",
    "encoders = {}\n",
    "X_train_categorical = X_train[categorical_features].copy()\n",
    "X_test_categorical = X_test[categorical_features].copy()\n",
    "\n",
    "for feature in categorical_features:\n",
    "    encoders[feature] = LabelEncoder()\n",
    "    X_train_categorical[feature] = encoders[feature].fit_transform(X_train_categorical[feature])\n",
    "    X_test_categorical[feature] = encoders[feature].transform(X_test_categorical[feature])\n",
    "\n",
    "print(\"\\nAfter encoding categorical features:\")\n",
    "print(f\"X_train_categorical shape: {X_train_categorical.shape}\")\n",
    "print(f\"X_test_categorical shape: {X_test_categorical.shape}\")\n",
    "\n",
    "# Combine processed features\n",
    "X_train_processed = np.hstack([X_train_continuous, X_train_categorical])\n",
    "X_test_processed = np.hstack([X_test_continuous, X_test_categorical])\n",
    "\n",
    "print(\"\\nFinal processed data shapes:\")\n",
    "print(f\"X_train_processed shape: {X_train_processed.shape}\")\n",
    "print(f\"X_test_processed shape: {X_test_processed.shape}\")\n",
    "\n",
    "# Display sample of processed data\n",
    "print(\"\\nSample of processed training data (first 5 rows):\")\n",
    "print(\"Columns order:\", continuous_features + categorical_features)\n",
    "print(X_train_processed[:5])"
   ]
  },
  {
   "cell_type": "markdown",
   "id": "7b8d3ca4-1411-4a96-a0bf-8f442309e273",
   "metadata": {},
   "source": [
    "## 4. Model Training and Evaluation"
   ]
  },
  {
   "cell_type": "code",
   "execution_count": 45,
   "id": "78e80d33-a187-4c47-8181-3745bf997966",
   "metadata": {},
   "outputs": [
    {
     "name": "stdout",
     "output_type": "stream",
     "text": [
      "\n",
      "Model RMSLE score: 0.2\n"
     ]
    }
   ],
   "source": [
    "def compute_rmsle(y_test: np.ndarray, y_pred: np.ndarray, precision: int = 2) -> float:\n",
    "    rmsle = np.sqrt(mean_squared_log_error(y_test, y_pred))\n",
    "    return round(rmsle, precision)\n",
    "\n",
    "# Train the model\n",
    "model = RandomForestRegressor(n_estimators=100, random_state=42)\n",
    "model.fit(X_train_processed, y_train)\n",
    "\n",
    "# Make predictions\n",
    "y_pred = model.predict(X_test_processed)\n",
    "\n",
    "# Calculate RMSLE\n",
    "rmsle_score = compute_rmsle(y_test, y_pred)\n",
    "print(f\"\\nModel RMSLE score: {rmsle_score}\")"
   ]
  },
  {
   "cell_type": "code",
   "execution_count": 25,
   "id": "680ad51c-1426-48c6-a6d2-7e37ab1aaf53",
   "metadata": {},
   "outputs": [
    {
     "data": {
      "image/png": "[encoded data removed]",
      "text/plain": [
       "<Figure size 1000x500 with 1 Axes>"
      ]
     },
     "metadata": {},
     "output_type": "display_data"
    }
   ],
   "source": [
    "# Feature importance visualization\n",
    "feature_importance = pd.DataFrame({\n",
    "    'feature': continuous_features + categorical_features,\n",
    "    'importance': model.feature_importances_\n",
    "})\n",
    "feature_importance = feature_importance.sort_values('importance', ascending=False)\n",
    "\n",
    "plt.figure(figsize=(10, 5))\n",
    "sns.barplot(data=feature_importance, x='importance', y='feature')\n",
    "plt.title('Feature Importance')\n",
    "plt.show()"
   ]
  },
  {
   "cell_type": "markdown",
   "id": "e23ba80d-5ed9-443a-ab2e-03cdccd74981",
   "metadata": {},
   "source": [
    "## 5. Model Prediction on Test Set"
   ]
  },
  {
   "cell_type": "code",
   "execution_count": 63,
   "id": "93686268-d2b3-44a4-bf11-f817db272303",
   "metadata": {},
   "outputs": [
    {
     "name": "stdout",
     "output_type": "stream",
     "text": [
      "\n",
      "First few rows of predictions:\n"
     ]
    },
    {
     "data": {
      "text/html": [
       "<div>\n",
       "<style scoped>\n",
       "    .dataframe tbody tr th:only-of-type {\n",
       "        vertical-align: middle;\n",
       "    }\n",
       "\n",
       "    .dataframe tbody tr th {\n",
       "        vertical-align: top;\n",
       "    }\n",
       "\n",
       "    .dataframe thead th {\n",
       "        text-align: right;\n",
       "    }\n",
       "</style>\n",
       "<table border=\"1\" class=\"dataframe\">\n",
       "  <thead>\n",
       "    <tr style=\"text-align: right;\">\n",
       "      <th></th>\n",
       "      <th>Id</th>\n",
       "      <th>SalePrice</th>\n",
       "    </tr>\n",
       "  </thead>\n",
       "  <tbody>\n",
       "    <tr>\n",
       "      <th>0</th>\n",
       "      <td>1461</td>\n",
       "      <td>116683.593221</td>\n",
       "    </tr>\n",
       "    <tr>\n",
       "      <th>1</th>\n",
       "      <td>1462</td>\n",
       "      <td>151647.000000</td>\n",
       "    </tr>\n",
       "    <tr>\n",
       "      <th>2</th>\n",
       "      <td>1463</td>\n",
       "      <td>177923.000000</td>\n",
       "    </tr>\n",
       "    <tr>\n",
       "      <th>3</th>\n",
       "      <td>1464</td>\n",
       "      <td>179128.000000</td>\n",
       "    </tr>\n",
       "    <tr>\n",
       "      <th>4</th>\n",
       "      <td>1465</td>\n",
       "      <td>202102.240000</td>\n",
       "    </tr>\n",
       "  </tbody>\n",
       "</table>\n",
       "</div>"
      ],
      "text/plain": [
       "     Id      SalePrice\n",
       "0  1461  116683.593221\n",
       "1  1462  151647.000000\n",
       "2  1463  177923.000000\n",
       "3  1464  179128.000000\n",
       "4  1465  202102.240000"
      ]
     },
     "metadata": {},
     "output_type": "display_data"
    }
   ],
   "source": [
    "# Prepare test data\n",
    "X_test_final = test_data[continuous_features + categorical_features].copy()\n",
    "\n",
    "# Scale continuous features\n",
    "X_test_final_continuous = scaler.transform(X_test_final[continuous_features])\n",
    "\n",
    "# Encode categorical features\n",
    "X_test_final_categorical = X_test_final[categorical_features].copy()\n",
    "for feature in categorical_features:\n",
    "    X_test_final_categorical[feature] = encoders[feature].transform(X_test_final_categorical[feature])\n",
    "\n",
    "# Combine processed features\n",
    "X_test_final_processed = np.hstack([X_test_final_continuous, X_test_final_categorical])\n",
    "\n",
    "# Make predictions\n",
    "test_predictions = model.predict(X_test_final_processed)\n",
    "\n",
    "# Create submission file\n",
    "submission = pd.DataFrame({\n",
    "    'Id': test_data['Id'],\n",
    "    'SalePrice': test_predictions\n",
    "})\n",
    "\n",
    "print(\"\\nFirst few rows of predictions:\")\n",
    "display(submission.head())\n",
    "\n",
    "# Save submission\n",
    "submission.to_csv('/Users/nasibamammadli/pw1/notebooks/submissions/submission.csv', index=False)"
   ]
  },
  {
   "cell_type": "code",
   "execution_count": null,
   "id": "476ddc3f-783e-4f48-a607-72bda5831e78",
   "metadata": {},
   "outputs": [],
   "source": []
  }
 ],
 "metadata": {
  "kernelspec": {
   "display_name": "Python 3 (ipykernel)",
   "language": "python",
   "name": "python3"
  },
  "language_info": {
   "codemirror_mode": {
    "name": "ipython",
    "version": 3
   },
   "file_extension": ".py",
   "mimetype": "text/x-python",
   "name": "python",
   "nbconvert_exporter": "python",
   "pygments_lexer": "ipython3",
   "version": "3.12.4"
  }
 },
 "nbformat": 4,
 "nbformat_minor": 5
}
